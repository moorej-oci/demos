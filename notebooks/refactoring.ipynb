{
 "cells": [
  {
   "cell_type": "markdown",
   "id": "ea2d46e1",
   "metadata": {},
   "source": [
    "## Your first attempt at coding something"
   ]
  },
  {
   "cell_type": "code",
   "execution_count": 1,
   "id": "1f7efd44",
   "metadata": {},
   "outputs": [
    {
     "name": "stdout",
     "output_type": "stream",
     "text": [
      "{'args': {}, 'data': '{\"my_data\": \"my_data\"}', 'files': {}, 'form': {}, 'headers': {'Accept': '*/*', 'Accept-Encoding': 'gzip, deflate', 'Content-Length': '22', 'Content-Type': 'application/json', 'Host': 'httpbin.org', 'User-Agent': 'python-requests/2.25.1', 'X-Amzn-Trace-Id': 'Root=1-619d5d37-22d31cf324ecfe221c988a61'}, 'json': {'my_data': 'my_data'}, 'method': 'POST', 'origin': '71.14.235.146', 'url': 'https://httpbin.org/anything'}\n"
     ]
    }
   ],
   "source": [
    "import json, requests\n",
    "\n",
    "with open('my_file.json') as file:\n",
    "    data = json.load(file)\n",
    "\n",
    "# print(data)\n",
    "\n",
    "# response = requests.get('https://httpbin.org/headers')\n",
    "# print(response.json())\n",
    "\n",
    "response = requests.post('https://httpbin.org/anything', json={'my_data': 'my_data'})\n",
    "print(response.json())\n",
    "\n",
    "with open('my_file_2.json', 'w') as file:\n",
    "    json.dump(response.json(), file)"
   ]
  },
  {
   "cell_type": "markdown",
   "id": "1ecd4c8f",
   "metadata": {},
   "source": [
    "## Writing methods, cleaning up style, using a helper library"
   ]
  },
  {
   "cell_type": "code",
   "execution_count": 2,
   "id": "5993cb3b",
   "metadata": {},
   "outputs": [
    {
     "name": "stdout",
     "output_type": "stream",
     "text": [
      "{'x': 'y'}\n",
      "{'headers': {'Accept': '*/*', 'Accept-Encoding': 'gzip, deflate', 'Host': 'httpbin.org', 'User-Agent': 'python-requests/2.25.1', 'X-Amzn-Trace-Id': 'Root=1-619d5d37-734ad083192af8ea45317fe3'}}\n",
      "{'args': {}, 'data': '{\"x\": \"y\", \"my_data\": \"my_data\"}', 'files': {}, 'form': {}, 'headers': {'Accept': '*/*', 'Accept-Encoding': 'gzip, deflate', 'Content-Length': '32', 'Content-Type': 'application/json', 'Host': 'httpbin.org', 'User-Agent': 'python-requests/2.25.1', 'X-Amzn-Trace-Id': 'Root=1-619d5d37-042f3171368fd67b1f39eba3'}, 'json': {'my_data': 'my_data', 'x': 'y'}, 'method': 'POST', 'origin': '71.14.235.146', 'url': 'https://httpbin.org/anything'}\n"
     ]
    }
   ],
   "source": [
    "import json\n",
    "import pathlib\n",
    "\n",
    "import requests\n",
    "\n",
    "\n",
    "def read_json(path):\n",
    "    content = pathlib.Path(path).read_text()\n",
    "    return json.loads(content)\n",
    "\n",
    "def write_json(obj, path):\n",
    "    content = json.dumps(obj)\n",
    "    pathlib.Path(path).write_text(content)\n",
    "\n",
    "def get_headers():\n",
    "    response = requests.get('https://httpbin.org/headers')\n",
    "    return response.json()\n",
    "\n",
    "def post_json(obj):\n",
    "    response = requests.post('https://httpbin.org/anything', json=obj)\n",
    "    return response.json()\n",
    "\n",
    "def main():\n",
    "    data = read_json('my_file.json')\n",
    "    print(data)\n",
    "\n",
    "    response = get_headers()\n",
    "    print(response)\n",
    "\n",
    "    data.update({'my_data': 'my_data'})\n",
    "    response = post_json(data)\n",
    "    print(response)\n",
    "\n",
    "    write_json(response, 'my_file_2.json')\n",
    "\n",
    "\n",
    "main()"
   ]
  },
  {
   "cell_type": "markdown",
   "id": "899aecc1",
   "metadata": {},
   "source": [
    "## What if our data comes from a URL and not a file?  \n",
    "## What if we want to send our data somewhere other than a file?  "
   ]
  },
  {
   "cell_type": "code",
   "execution_count": 3,
   "id": "ded199ef",
   "metadata": {},
   "outputs": [
    {
     "name": "stdout",
     "output_type": "stream",
     "text": [
      "Data: {'x': 'y'}\n",
      "Headers:\n",
      "{'Accept': '*/*',\n",
      " 'Accept-Encoding': 'gzip, deflate',\n",
      " 'Host': 'httpbin.org',\n",
      " 'User-Agent': 'python-requests/2.25.1',\n",
      " 'X-Amzn-Trace-Id': 'Root=1-619d5d37-722b306d1a5cbde524a78997'}\n",
      "Response:\n",
      "{'args': {},\n",
      " 'data': '{\"x\": \"y\", \"my_data\": \"my_data\"}',\n",
      " 'files': {},\n",
      " 'form': {},\n",
      " 'headers': {'Accept': '*/*',\n",
      "             'Accept-Encoding': 'gzip, deflate',\n",
      "             'Content-Length': '32',\n",
      "             'Content-Type': 'application/json',\n",
      "             'Host': 'httpbin.org',\n",
      "             'User-Agent': 'python-requests/2.25.1',\n",
      "             'X-Amzn-Trace-Id': 'Root=1-619d5d37-4039a1205be8dfe96cd78358'},\n",
      " 'json': {'my_data': 'my_data', 'x': 'y'},\n",
      " 'method': 'POST',\n",
      " 'origin': '71.14.235.146',\n",
      " 'url': 'https://httpbin.org/anything'}\n",
      "========================================================================================================================\n",
      "Data: {'uuid': '5b1ad3e5-ee48-45f5-91f4-9a8f409c9cac'}\n",
      "Headers:\n",
      "{'Accept': '*/*',\n",
      " 'Accept-Encoding': 'gzip, deflate',\n",
      " 'Host': 'httpbin.org',\n",
      " 'User-Agent': 'python-requests/2.25.1',\n",
      " 'X-Amzn-Trace-Id': 'Root=1-619d5d38-69352b373842ac8807719c21'}\n",
      "Response:\n",
      "{'args': {},\n",
      " 'data': '{\"uuid\": \"5b1ad3e5-ee48-45f5-91f4-9a8f409c9cac\", \"my_data\": '\n",
      "         '\"my_data\"}',\n",
      " 'files': {},\n",
      " 'form': {},\n",
      " 'headers': {'Accept': '*/*',\n",
      "             'Accept-Encoding': 'gzip, deflate',\n",
      "             'Content-Length': '70',\n",
      "             'Content-Type': 'application/json',\n",
      "             'Host': 'httpbin.org',\n",
      "             'User-Agent': 'python-requests/2.25.1',\n",
      "             'X-Amzn-Trace-Id': 'Root=1-619d5d38-3544d38a0f06b445425a9a64'},\n",
      " 'json': {'my_data': 'my_data', 'uuid': '5b1ad3e5-ee48-45f5-91f4-9a8f409c9cac'},\n",
      " 'method': 'POST',\n",
      " 'origin': '71.14.235.146',\n",
      " 'url': 'https://httpbin.org/anything'}\n"
     ]
    }
   ],
   "source": [
    "import json\n",
    "import pathlib\n",
    "from pprint import pprint\n",
    "\n",
    "import requests\n",
    "\n",
    "\n",
    "def read_json(path):\n",
    "    content = pathlib.Path(path).read_text()\n",
    "    return json.loads(content)\n",
    "\n",
    "def write_json(obj, path):\n",
    "    content = json.dumps(obj)\n",
    "    pathlib.Path(path).write_text(content)\n",
    "\n",
    "def get_headers():\n",
    "    response = requests.get('https://httpbin.org/headers')\n",
    "    return response.json()\n",
    "\n",
    "def post_json(obj, url='https://httpbin.org/anything'):\n",
    "    response = requests.post(url, json=obj)\n",
    "    return response.json()\n",
    "\n",
    "def read_data(data_source):\n",
    "    if 'http' in data_source:\n",
    "        response = requests.get(data_source)\n",
    "        return response.json()\n",
    "    else:\n",
    "        return read_json(data_source)\n",
    "\n",
    "def write_data(obj, path):\n",
    "    if 'http' in path:\n",
    "        post_json(obj, path)\n",
    "    else:\n",
    "        write_json(obj, path)\n",
    "    \n",
    "def main(data_source='my_file.json', output='my_file_2.json'):\n",
    "    data = read_data(data_source)\n",
    "    print(f'Data: {data}')\n",
    "\n",
    "    response = get_headers()\n",
    "    print('Headers:')\n",
    "    pprint(response['headers'])\n",
    "\n",
    "    data.update({'my_data': 'my_data'})\n",
    "    response = post_json(data)\n",
    "    print('Response:')\n",
    "    pprint(response)\n",
    "\n",
    "    write_data(response, output)\n",
    "\n",
    "\n",
    "main('my_file.json', 'my_file_2.json')\n",
    "print('='*120)\n",
    "main('https://httpbin.org/uuid', 'https://httpbin.org/anything')"
   ]
  },
  {
   "cell_type": "markdown",
   "id": "f30fefdc",
   "metadata": {},
   "source": [
    "## What if someone else wants to use our code?  \n",
    "## Let's add some type hints and some options on what we print by switching to the logging library and assigning levels to messages."
   ]
  },
  {
   "cell_type": "code",
   "execution_count": 4,
   "id": "f8134920",
   "metadata": {},
   "outputs": [],
   "source": [
    "import json\n",
    "import pathlib\n",
    "import logging\n",
    "from typing import Union, Dict, List\n",
    "\n",
    "import requests\n",
    "\n",
    "\n",
    "def read_json(path: str) -> Union[Dict, List]:\n",
    "    logging.info(f'Reading JSON from disk at {path}')\n",
    "    content = pathlib.Path(path).read_text()\n",
    "    return json.loads(content)\n",
    "\n",
    "def write_json(obj: Union[Dict, List], path: str):\n",
    "    logging.info(f'Writing JSON to disk at {path}')\n",
    "    content = json.dumps(obj)\n",
    "    pathlib.Path(path).write_text(content)\n",
    "\n",
    "def get_headers() -> Dict:\n",
    "    logging.info('Getting headers from httpbin.org')\n",
    "    response = requests.get('https://httpbin.org/headers')\n",
    "    return response.json()\n",
    "\n",
    "def post_json(obj: Union[Dict, List], url: str = 'https://httpbin.org/anything') -> Union[Dict, List]:\n",
    "    logging.info('Posting data to httbin.org')\n",
    "    response = requests.post(url, json=obj)\n",
    "    return response.json()\n",
    "\n",
    "def read_data(data_source: str) -> Union[Dict, List]:\n",
    "    logging.info(f'Reading from \"{data_source}\"')\n",
    "    if 'http' in data_source:\n",
    "        response = requests.get(data_source)\n",
    "        return response.json()\n",
    "    else:\n",
    "        return read_json(data_source)\n",
    "\n",
    "def write_data(obj: Union[Dict, List], path: str):\n",
    "    logging.info(f'Writing to \"{path}\"')\n",
    "    if 'http' in path:\n",
    "        post_json(obj, path)\n",
    "    else:\n",
    "        write_json(obj, path)\n",
    "    \n",
    "def main(data_source: str = 'my_file.json', output: str = 'my_file_2.json'):\n",
    "    data = read_data(data_source)\n",
    "    logging.debug(f'Data: {data}')\n",
    "\n",
    "    response = get_headers()\n",
    "    logging.debug('Headers:')\n",
    "    logging.debug(response['headers'])\n",
    "\n",
    "    data.update({'my_data': 'my_data'})\n",
    "    response = post_json(data)\n",
    "    logging.debug('Response:')\n",
    "    logging.debug(response)\n",
    "\n",
    "    write_data(response, output)"
   ]
  },
  {
   "cell_type": "code",
   "execution_count": 5,
   "id": "77ee791f",
   "metadata": {},
   "outputs": [],
   "source": [
    "# init root logger for session\n",
    "logging.basicConfig(format='%(asctime)s [%(levelname)-7s] %(name)s:%(lineno)d | %(message)s')"
   ]
  },
  {
   "cell_type": "code",
   "execution_count": 6,
   "id": "06bbbe29",
   "metadata": {},
   "outputs": [
    {
     "name": "stderr",
     "output_type": "stream",
     "text": [
      "2021-11-23 15:29:28,729 [INFO   ] root:30 | Reading from \"my_file.json\"\n",
      "2021-11-23 15:29:28,730 [INFO   ] root:10 | Reading JSON from disk at my_file.json\n",
      "2021-11-23 15:29:28,731 [INFO   ] root:20 | Getting headers from httpbin.org\n",
      "2021-11-23 15:29:28,871 [INFO   ] root:25 | Posting data to httbin.org\n",
      "2021-11-23 15:29:29,001 [INFO   ] root:38 | Writing to \"my_file_2.json\"\n",
      "2021-11-23 15:29:29,002 [INFO   ] root:15 | Writing JSON to disk at my_file_2.json\n"
     ]
    }
   ],
   "source": [
    "logging.getLogger().setLevel(logging.INFO)\n",
    "\n",
    "main('my_file.json', 'my_file_2.json')"
   ]
  },
  {
   "cell_type": "code",
   "execution_count": 7,
   "id": "bcd3a13a",
   "metadata": {},
   "outputs": [
    {
     "name": "stderr",
     "output_type": "stream",
     "text": [
      "2021-11-23 15:29:29,008 [INFO   ] root:30 | Reading from \"https://httpbin.org/uuid\"\n",
      "2021-11-23 15:29:29,011 [DEBUG  ] urllib3.connectionpool:971 | Starting new HTTPS connection (1): httpbin.org:443\n",
      "2021-11-23 15:29:29,146 [DEBUG  ] urllib3.connectionpool:452 | https://httpbin.org:443 \"GET /uuid HTTP/1.1\" 200 53\n",
      "2021-11-23 15:29:29,150 [DEBUG  ] root:46 | Data: {'uuid': '43076a83-89dc-4485-a95c-099e7420590c'}\n",
      "2021-11-23 15:29:29,151 [INFO   ] root:20 | Getting headers from httpbin.org\n",
      "2021-11-23 15:29:29,154 [DEBUG  ] urllib3.connectionpool:971 | Starting new HTTPS connection (1): httpbin.org:443\n",
      "2021-11-23 15:29:29,285 [DEBUG  ] urllib3.connectionpool:452 | https://httpbin.org:443 \"GET /headers HTTP/1.1\" 200 225\n",
      "2021-11-23 15:29:29,289 [DEBUG  ] root:49 | Headers:\n",
      "2021-11-23 15:29:29,290 [DEBUG  ] root:50 | {'Accept': '*/*', 'Accept-Encoding': 'gzip, deflate', 'Host': 'httpbin.org', 'User-Agent': 'python-requests/2.25.1', 'X-Amzn-Trace-Id': 'Root=1-619d5d39-5911b4cd1f8c73a50ba082dd'}\n",
      "2021-11-23 15:29:29,291 [INFO   ] root:25 | Posting data to httbin.org\n",
      "2021-11-23 15:29:29,294 [DEBUG  ] urllib3.connectionpool:971 | Starting new HTTPS connection (1): httpbin.org:443\n",
      "2021-11-23 15:29:29,449 [DEBUG  ] urllib3.connectionpool:452 | https://httpbin.org:443 \"POST /anything HTTP/1.1\" 200 623\n",
      "2021-11-23 15:29:29,453 [DEBUG  ] root:54 | Response:\n",
      "2021-11-23 15:29:29,454 [DEBUG  ] root:55 | {'args': {}, 'data': '{\"uuid\": \"43076a83-89dc-4485-a95c-099e7420590c\", \"my_data\": \"my_data\"}', 'files': {}, 'form': {}, 'headers': {'Accept': '*/*', 'Accept-Encoding': 'gzip, deflate', 'Content-Length': '70', 'Content-Type': 'application/json', 'Host': 'httpbin.org', 'User-Agent': 'python-requests/2.25.1', 'X-Amzn-Trace-Id': 'Root=1-619d5d39-6246380415d45301218ef37c'}, 'json': {'my_data': 'my_data', 'uuid': '43076a83-89dc-4485-a95c-099e7420590c'}, 'method': 'POST', 'origin': '71.14.235.146', 'url': 'https://httpbin.org/anything'}\n",
      "2021-11-23 15:29:29,455 [INFO   ] root:38 | Writing to \"https://httpbin.org/anything\"\n",
      "2021-11-23 15:29:29,455 [INFO   ] root:25 | Posting data to httbin.org\n",
      "2021-11-23 15:29:29,458 [DEBUG  ] urllib3.connectionpool:971 | Starting new HTTPS connection (1): httpbin.org:443\n",
      "2021-11-23 15:29:29,590 [DEBUG  ] urllib3.connectionpool:452 | https://httpbin.org:443 \"POST /anything HTTP/1.1\" 200 1748\n"
     ]
    }
   ],
   "source": [
    "logging.getLogger('root').setLevel(logging.DEBUG)\n",
    "\n",
    "main('https://httpbin.org/uuid', 'https://httpbin.org/anything')"
   ]
  },
  {
   "cell_type": "markdown",
   "id": "60f0625e",
   "metadata": {},
   "source": [
    "## Helpful but now we're seeing urllib3 debug logs too. Let's make our own logger"
   ]
  },
  {
   "cell_type": "code",
   "execution_count": 8,
   "id": "474e77f0",
   "metadata": {},
   "outputs": [],
   "source": [
    "import json\n",
    "import pathlib\n",
    "import logging\n",
    "from typing import Union, Dict, List\n",
    "\n",
    "import requests\n",
    "\n",
    "\n",
    "logger = logging.getLogger('my_module')\n",
    "\n",
    "def read_json(path: str) -> Union[Dict, List]:\n",
    "    logger.info(f'Reading JSON from disk at {path}')\n",
    "    content = pathlib.Path(path).read_text()\n",
    "    return json.loads(content)\n",
    "\n",
    "def write_json(obj: Union[Dict, List], path: str):\n",
    "    logger.info(f'Writing JSON to disk at {path}')\n",
    "    content = json.dumps(obj)\n",
    "    pathlib.Path(path).write_text(content)\n",
    "\n",
    "def get_headers() -> Dict:\n",
    "    logger.info('Getting headers from httpbin.org')\n",
    "    response = requests.get('https://httpbin.org/headers')\n",
    "    return response.json()\n",
    "\n",
    "def post_json(obj: Union[Dict, List], url: str = 'https://httpbin.org/anything') -> Union[Dict, List]:\n",
    "    logger.info('Posting data to httbin.org')\n",
    "    response = requests.post(url, json=obj)\n",
    "    return response.json()\n",
    "\n",
    "def read_data(data_source: str) -> Union[Dict, List]:\n",
    "    logger.info(f'Reading from \"{data_source}\"')\n",
    "    if 'http' in data_source:\n",
    "        response = requests.get(data_source)\n",
    "        return response.json()\n",
    "    else:\n",
    "        return read_json(data_source)\n",
    "\n",
    "def write_data(obj: Union[Dict, List], path: str):\n",
    "    logger.info(f'Writing to \"{path}\"')\n",
    "    if 'http' in path:\n",
    "        post_json(obj, path)\n",
    "    else:\n",
    "        write_json(obj, path)\n",
    "    \n",
    "def main(data_source: str = 'my_file.json', output: str = 'my_file_2.json'):\n",
    "    data = read_data(data_source)\n",
    "    logger.debug(f'Data: {data}')\n",
    "\n",
    "    response = get_headers()\n",
    "    logger.debug('Headers:')\n",
    "    logger.debug(response['headers'])\n",
    "\n",
    "    data.update({'my_data': 'my_data'})\n",
    "    response = post_json(data)\n",
    "    logger.debug('Response:')\n",
    "    logger.debug(response)\n",
    "\n",
    "    write_data(response, output)"
   ]
  },
  {
   "cell_type": "code",
   "execution_count": 9,
   "id": "9901dc8c",
   "metadata": {},
   "outputs": [
    {
     "name": "stderr",
     "output_type": "stream",
     "text": [
      "2021-11-23 15:29:29,614 [INFO   ] my_module:32 | Reading from \"https://httpbin.org/uuid\"\n",
      "2021-11-23 15:29:29,759 [DEBUG  ] my_module:48 | Data: {'uuid': '2ab781b9-df6b-4d1f-ac18-939e4aa73d9e'}\n",
      "2021-11-23 15:29:29,760 [INFO   ] my_module:22 | Getting headers from httpbin.org\n",
      "2021-11-23 15:29:29,902 [DEBUG  ] my_module:51 | Headers:\n",
      "2021-11-23 15:29:29,903 [DEBUG  ] my_module:52 | {'Accept': '*/*', 'Accept-Encoding': 'gzip, deflate', 'Host': 'httpbin.org', 'User-Agent': 'python-requests/2.25.1', 'X-Amzn-Trace-Id': 'Root=1-619d5d39-1b46bee65fcce6e452064dd4'}\n",
      "2021-11-23 15:29:29,903 [INFO   ] my_module:27 | Posting data to httbin.org\n",
      "2021-11-23 15:29:30,041 [DEBUG  ] my_module:56 | Response:\n",
      "2021-11-23 15:29:30,042 [DEBUG  ] my_module:57 | {'args': {}, 'data': '{\"uuid\": \"2ab781b9-df6b-4d1f-ac18-939e4aa73d9e\", \"my_data\": \"my_data\"}', 'files': {}, 'form': {}, 'headers': {'Accept': '*/*', 'Accept-Encoding': 'gzip, deflate', 'Content-Length': '70', 'Content-Type': 'application/json', 'Host': 'httpbin.org', 'User-Agent': 'python-requests/2.25.1', 'X-Amzn-Trace-Id': 'Root=1-619d5d3a-3feca86f4d447e6f569a1ec9'}, 'json': {'my_data': 'my_data', 'uuid': '2ab781b9-df6b-4d1f-ac18-939e4aa73d9e'}, 'method': 'POST', 'origin': '71.14.235.146', 'url': 'https://httpbin.org/anything'}\n",
      "2021-11-23 15:29:30,043 [INFO   ] my_module:40 | Writing to \"https://httpbin.org/anything\"\n",
      "2021-11-23 15:29:30,044 [INFO   ] my_module:27 | Posting data to httbin.org\n"
     ]
    }
   ],
   "source": [
    "logging.getLogger().setLevel(logging.INFO)\n",
    "logging.getLogger('my_module').setLevel(logging.DEBUG)\n",
    "\n",
    "main('https://httpbin.org/uuid', 'https://httpbin.org/anything')"
   ]
  },
  {
   "cell_type": "code",
   "execution_count": null,
   "id": "b89ce87f",
   "metadata": {},
   "outputs": [],
   "source": []
  }
 ],
 "metadata": {
  "kernelspec": {
   "display_name": "Python [conda env:py39]",
   "language": "python",
   "name": "conda-env-py39-py"
  },
  "language_info": {
   "codemirror_mode": {
    "name": "ipython",
    "version": 3
   },
   "file_extension": ".py",
   "mimetype": "text/x-python",
   "name": "python",
   "nbconvert_exporter": "python",
   "pygments_lexer": "ipython3",
   "version": "3.9.4"
  }
 },
 "nbformat": 4,
 "nbformat_minor": 5
}
